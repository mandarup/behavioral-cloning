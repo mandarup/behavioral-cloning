{
 "cells": [
  {
   "cell_type": "markdown",
   "metadata": {
    "deletable": true,
    "editable": true
   },
   "source": [
    "# **Behavioral Cloning** \n",
    "\n",
    "\n",
    "---\n",
    "\n",
    "**Behavioral Cloning Project**\n",
    "\n",
    "The goals / steps of this project are the following:\n",
    "* Use the simulator to collect data of good driving behavior\n",
    "* Build, a convolution neural network in Keras that predicts steering angles from images\n",
    "* Train and validate the model with a training and validation set\n",
    "* Test that the model successfully drives around track one without leaving the road\n",
    "\n",
    "\n",
    "---\n",
    "### Relevant files\n",
    "\n",
    "#### 1. This repo includes all required files and can be used to run the simulator in autonomous mode\n",
    "\n",
    " This repo includes the following files:\n",
    "* model.py containing the script to create and train the model\n",
    "* drive.py for driving the car in autonomous mode\n",
    "* model.h5 containing a trained convolution neural network \n",
    "* writeup_report.md or writeup_report.pdf summarizing the results\n",
    "\n",
    "#### 2. Submission includes functional code\n",
    "Using the Udacity provided simulator and drive.py file, the car can be driven autonomously around the track by executing \n",
    "```sh\n",
    "python drive.py model.h5\n",
    "```\n",
    "\n",
    "#### 3. Model script\n",
    "\n",
    "The model.py file contains the code for training and saving the convolution neural network. The file shows the pipeline used for training and validating the model.\n"
   ]
  },
  {
   "cell_type": "markdown",
   "metadata": {
    "deletable": true,
    "editable": true
   },
   "source": [
    "\n",
    "\n",
    "### Model Architecture and Performance\n",
    "\n",
    "#### 1. Incremental model improvement:\n",
    "\n",
    "Minimal training, car gets stuck at a dirt road exit:\n",
    "\n",
    "<img src=\"/images/run2-select.gif\" video>\n",
    "\n",
    "Regularization, dropout, additional training. Car takes the dirt road exits:\n",
    "\n",
    "<img src=\"/images/run4.gif\" video>\n",
    "\n",
    "After augmenting the data by recording the vehicle recovering from the left side and right sides of the road back to center so that the vehicle would learn to steer away from edges when necessary, car learned to drive around the track  without a hitch:\n",
    "\n",
    "<img src=\"/images/video.gif\" video>\n",
    "\n",
    "#### 2. Final Model Architecture\n",
    "\n",
    "The final model architecture (model.py lines 82-111) consisted of a convolution neural network with the following layers and layer sizes:\n",
    "\n",
    "![model_architecture](images/model.png)\n",
    "\n",
    "\n",
    "\n",
    "\n"
   ]
  },
  {
   "cell_type": "code",
   "execution_count": null,
   "metadata": {
    "collapsed": true,
    "deletable": true,
    "editable": true
   },
   "outputs": [],
   "source": []
  }
 ],
 "metadata": {
  "kernelspec": {
   "display_name": "Python2 (udacity-carnd)",
   "language": "python",
   "name": "udacity-carnd"
  },
  "language_info": {
   "codemirror_mode": {
    "name": "ipython",
    "version": 2
   },
   "file_extension": ".py",
   "mimetype": "text/x-python",
   "name": "python",
   "nbconvert_exporter": "python",
   "pygments_lexer": "ipython2",
   "version": "2.7.12"
  }
 },
 "nbformat": 4,
 "nbformat_minor": 2
}
